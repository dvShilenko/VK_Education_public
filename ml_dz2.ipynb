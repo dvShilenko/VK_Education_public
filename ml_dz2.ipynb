{
 "cells": [
  {
   "cell_type": "markdown",
   "metadata": {
    "id": "fW9cin99QaaL"
   },
   "source": [
    "### Машинное Обучения\n",
    "\n",
    "## Домашнее задание №2 - Дерево решений"
   ]
  },
  {
   "cell_type": "markdown",
   "metadata": {
    "id": "lalH0w_oQaaN"
   },
   "source": [
    "**Общая информация**\n",
    "\n",
    "**Срок сдачи:** 23 апреля 2024, 23:59   \n",
    "**Штраф за опоздание:** -2 балла за каждые 2 дня опоздания\n",
    "\n",
    "Решений залить в свой github репозиторий.\n",
    "\n",
    "Используйте данный Ipython Notebook при оформлении домашнего задания."
   ]
  },
  {
   "cell_type": "markdown",
   "metadata": {
    "id": "YvfDz_U8QaaO"
   },
   "source": [
    "##  Реализуем дерево решений (3 балла)"
   ]
  },
  {
   "cell_type": "markdown",
   "metadata": {
    "id": "qdFOHRWuQaaO"
   },
   "source": [
    "Допишите недостающие части дерева решений. Ваша реализация дерева должна работать по точности не хуже DecisionTreeClassifier из sklearn.\n",
    "Внимание: если Вас не устраивает предложенная структура хранения дерева, Вы без потери баллов можете сделать свой класс MyDecisionTreeClassifier, в котором сами полностью воспроизведете алгоритм дерева решений. Обязательно в нем иметь только функции fit, predict . (Но название класса не менять)"
   ]
  },
  {
   "cell_type": "code",
   "execution_count": 1,
   "metadata": {
    "id": "vyXqEuX-QaaO"
   },
   "outputs": [],
   "source": [
    "import matplotlib.pyplot as plt\n",
    "import numpy as np\n",
    "import pandas as pd\n",
    "\n",
    "from sklearn.datasets import load_wine\n",
    "from sklearn.ensemble import RandomForestClassifier\n",
    "from sklearn.metrics import accuracy_score, roc_auc_score\n",
    "from sklearn.model_selection import KFold, train_test_split, GridSearchCV, RandomizedSearchCV\n",
    "from sklearn.tree import DecisionTreeClassifier"
   ]
  },
  {
   "cell_type": "code",
   "execution_count": 2,
   "metadata": {
    "id": "qVk49hp8aRLP"
   },
   "outputs": [],
   "source": [
    "class MyDecisionTreeClassifier:\n",
    "    NON_LEAF_TYPE = 0\n",
    "    LEAF_TYPE = 1\n",
    "\n",
    "    def __init__(self, min_samples_split=2, max_depth=5, criterion='gini'):\n",
    "        \"\"\"\n",
    "        criterion -- критерий расщепления. необходимо релизовать три:\n",
    "        Ошибка классификации, Индекс Джини, Энтропийный критерий\n",
    "        max_depth -- максимальная глубина дерева\n",
    "        min_samples_split -- минимальное число объектов в листе, чтобы сделать новый сплит\n",
    "        \"\"\"\n",
    "        self.min_samples_split = min_samples_split\n",
    "        self.max_depth = max_depth\n",
    "        self.num_class = -1\n",
    "        # Для последнего задания\n",
    "        self.feature_importances_ = dict()\n",
    "        self.criterion = criterion\n",
    "        # Структура, которая описывает дерево\n",
    "        # Представляет словарь, где для  node_id (айдишник узла дерева) храним\n",
    "        # (тип_узла, айдишник признака сплита, порог сплита) если тип NON_LEAF_TYPE\n",
    "        # (тип_узла, предсказание класса, вероятность класса) если тип LEAF_TYPE\n",
    "        # Подразумевается, что у каждого node_id в дереве слева\n",
    "        # узел с айди 2 * node_id + 1, а справа 2 * node_id + 2\n",
    "        self.tree = dict()\n",
    "\n",
    "    def __div_samples(self, x, y, feature_id, threshold):\n",
    "        \"\"\"\n",
    "        Разделяет объекты на 2 множества\n",
    "        x -- матрица объектов\n",
    "        y -- вектор ответов\n",
    "        feature_id -- айдишник признака, по которому делаем сплит\n",
    "        threshold -- порог, по которому делаем сплит\n",
    "        \"\"\"\n",
    "        left_mask = x[:, feature_id] > threshold\n",
    "        right_mask = ~left_mask\n",
    "        return x[left_mask], x[right_mask], y[left_mask], y[right_mask]\n",
    "\n",
    "    def __find_threshold(self, x, y):\n",
    "        \"\"\"\n",
    "        Находим оптимальный признак и порог для сплита\n",
    "        Здесь используемые разные impurity в зависимости от self.criterion\n",
    "        \"\"\"\n",
    "\n",
    "        if self.criterion == 'misclassification_error':\n",
    "            min_loss = 10 ** 18\n",
    "            optimal_border = None\n",
    "            for j in range(x.shape[1]):\n",
    "                for t in x[:, j]:\n",
    "                    x_l, x_r, y_l, y_r = self.__div_samples(x, y, j, t)\n",
    "                    p = dict()\n",
    "                    for i in range(len(y_l)):\n",
    "                        if y_l[i] in p:\n",
    "                            p[y_l[i]] += 1\n",
    "                        else:\n",
    "                            p[y_l[i]] = 1\n",
    "                    if len(y_l) != 0:\n",
    "                        p_l = max(p) / len(y_l)\n",
    "                        H_l = 1 - p_l\n",
    "                    else:\n",
    "                        H_l = 0\n",
    "                    p = dict()\n",
    "                    for i in range(len(y_r)):\n",
    "                        if y_r[i] in p:\n",
    "                            p[y_r[i]] += 1\n",
    "                        else:\n",
    "                            p[y_r[i]] = 1\n",
    "                    if len(y_r) != 0:\n",
    "                        p_r = max(p) / len(y_r)\n",
    "                        H_r = 1 - p_r\n",
    "                    else:\n",
    "                        H_r = 0\n",
    "                    loss = len(y_l) * H_l + len(y_r) * H_r\n",
    "                    if loss < min_loss:\n",
    "                        min_loss, optimal_border = loss, (j, t)\n",
    "            return optimal_border\n",
    "\n",
    "        if self.criterion == 'entropy':\n",
    "            min_loss = 10 ** 18\n",
    "            optimal_border = None\n",
    "            classes, freq = np.unique(y, return_counts=True)\n",
    "            p = freq / len(y)\n",
    "            H = - np.dot(p, np.log(p))\n",
    "            for j in range(x.shape[1]):\n",
    "                for t in x[:, j]:\n",
    "                    x_l, x_r, y_l, y_r = self.__div_samples(x, y, j, t)\n",
    "                    classes, freq = np.unique(y_l, return_counts=True)\n",
    "                    p = freq / len(y_l)\n",
    "                    H_l =  -np.dot(p, np.log(p))\n",
    "                    classes, freq = np.unique(y_r, return_counts=True)\n",
    "                    p = freq / len(y_r)\n",
    "                    H_r = -np.dot(p, np.log(p))\n",
    "                    loss = len(y_l) * H_l + len(y_r) * H_r\n",
    "                    if loss < min_loss:\n",
    "                        min_loss, optimal_border = loss, (j, t)\n",
    "            return optimal_border, H - min_loss / len(y)\n",
    "\n",
    "        if self.criterion == 'gini':\n",
    "            min_loss = 10 ** 18\n",
    "            optimal_border = None\n",
    "            classes, freq = np.unique(y, return_counts=True)\n",
    "            p = freq / len(y)\n",
    "            H = np.dot(p, 1 - p)\n",
    "            for j in range(x.shape[1]):\n",
    "                for t in x[:, j]:\n",
    "                    x_l, x_r, y_l, y_r = self.__div_samples(x, y, j, t)\n",
    "                    classes, freq = np.unique(y_l, return_counts=True)\n",
    "                    p = freq / len(y_l)\n",
    "                    H_l = np.dot(p, 1 - p)\n",
    "                    classes, freq = np.unique(y_r, return_counts=True)\n",
    "                    p = freq / len(y_r)\n",
    "                    H_r = np.dot(p, 1 - p)\n",
    "                    loss = len(y_l) * H_l + len(y_r) * H_r\n",
    "                    if loss < min_loss:\n",
    "                        min_loss, optimal_border = loss, (j, t)\n",
    "            return optimal_border, H - min_loss / len(y)\n",
    "\n",
    "\n",
    "    def __fit_node(self, x, y, node_id, depth):\n",
    "        \"\"\"\n",
    "        Делаем новый узел в дереве\n",
    "        Решаем, терминальный он или нет\n",
    "        Если нет, то строим левый узел  с айди 2 * node_id + 1\n",
    "        И правый узел с  айди 2 * node_id + 2\n",
    "        \"\"\"\n",
    "        if len(y) == 0:\n",
    "            return\n",
    "        if depth > self.max_depth or len(y) < self.min_samples_split:\n",
    "          classes, freq = np.unique(y, return_counts=True)\n",
    "          max_f = max(freq)\n",
    "          ind = np.where(freq == max_f)[0][0]\n",
    "          self.tree[node_id] = (self.__class__.LEAF_TYPE, classes[ind], max_f / len(y))\n",
    "        else:\n",
    "            border, gain = self.__find_threshold(x, y)\n",
    "            if border[0] in self.feature_importances_:\n",
    "              self.feature_importances_[border[0]] += gain\n",
    "            self.tree[node_id] = (self.__class__.NON_LEAF_TYPE, border[0], border[1])\n",
    "            x_l, x_r, y_l, y_r = self.__div_samples(x, y, border[0], border[1])\n",
    "            if len(y_l) != 0:\n",
    "              self.__fit_node(x_l, y_l, 2 * node_id + 1, depth + 1)\n",
    "            if len(y_r) != 0:\n",
    "              self.__fit_node(x_r, y_r, 2 * node_id + 2, depth + 1)\n",
    "\n",
    "    def fit(self, x, y):\n",
    "        \"\"\"\n",
    "        Рекурсивно строим дерево решений\n",
    "        Начинаем с корня node_id 0\n",
    "        \"\"\"\n",
    "        self.num_class = np.unique(y).size\n",
    "        self.__fit_node(x, y, 0, 0)\n",
    "\n",
    "    def __predict_class(self, x, node_id):\n",
    "        \"\"\"\n",
    "        Рекурсивно обходим дерево по всем узлам,\n",
    "        пока не дойдем до терминального\n",
    "        \"\"\"\n",
    "        if node_id in self.tree:\n",
    "            node = self.tree[node_id]\n",
    "            if node[0] == self.__class__.NON_LEAF_TYPE:\n",
    "                _, feature_id, threshold = node\n",
    "                if x[feature_id] > threshold:\n",
    "                    return self.__predict_class(x, 2 * node_id + 1)\n",
    "                else:\n",
    "                    return self.__predict_class(x, 2 * node_id + 2)\n",
    "            else:\n",
    "                return node[1]\n",
    "\n",
    "    def predict(self, X):\n",
    "        \"\"\"\n",
    "        Вызывает predict для всех объектов из матрицы X\n",
    "        \"\"\"\n",
    "        return np.array([self.__predict_class(x, 0) for x in X])\n",
    "\n",
    "    def fit_predict(self, x_train, y_train, predicted_x):\n",
    "        self.fit(x_train, y_train)\n",
    "        return self.predict(predicted_x)\n",
    "\n",
    "    def get_feature_importance():\n",
    "        \"\"\"\n",
    "        Возвращает важность признаков\n",
    "        \"\"\"\n",
    "        # Ваш код здесь\n",
    "        pass"
   ]
  },
  {
   "cell_type": "code",
   "execution_count": 3,
   "metadata": {
    "id": "tEiQiISVQaaQ"
   },
   "outputs": [],
   "source": [
    "my_clf = MyDecisionTreeClassifier(min_samples_split=2)\n",
    "clf = DecisionTreeClassifier(min_samples_split=2)"
   ]
  },
  {
   "cell_type": "code",
   "execution_count": 4,
   "metadata": {
    "id": "KeYMum41QaaQ"
   },
   "outputs": [],
   "source": [
    "wine = load_wine()\n",
    "X_train, X_test, y_train, y_test = train_test_split(wine.data, wine.target, test_size=0.1, stratify=wine.target)"
   ]
  },
  {
   "cell_type": "code",
   "execution_count": 5,
   "metadata": {
    "colab": {
     "base_uri": "https://localhost:8080/",
     "height": 75
    },
    "id": "dCcVgzLLRFaD",
    "outputId": "27e0686f-ae58-4e6e-8fad-4607e6037cfb"
   },
   "outputs": [
    {
     "data": {
      "text/plain": [
       "DecisionTreeClassifier()"
      ]
     },
     "execution_count": 5,
     "metadata": {},
     "output_type": "execute_result"
    }
   ],
   "source": [
    "my_clf.fit(X_train, y_train)\n",
    "clf.fit(X_train, y_train)"
   ]
  },
  {
   "cell_type": "code",
   "execution_count": 6,
   "metadata": {
    "colab": {
     "base_uri": "https://localhost:8080/"
    },
    "id": "ondetkdzQaaR",
    "outputId": "203429b4-3bab-4b17-f770-6bae7a1ec851"
   },
   "outputs": [
    {
     "name": "stdout",
     "output_type": "stream",
     "text": [
      "0.8888888888888888\n",
      "0.9444444444444444\n"
     ]
    }
   ],
   "source": [
    "print(accuracy_score(y_pred=clf.predict(X_test), y_true=y_test))\n",
    "print(accuracy_score(y_pred=my_clf.predict(X_test), y_true=y_test))"
   ]
  },
  {
   "cell_type": "markdown",
   "metadata": {
    "id": "m9k4r9JmQaaR"
   },
   "source": [
    "Совет: Проверьте, что ваша реализация корректно работает с признаками в которых встречаются повторы.\n",
    "И подумайте, какие еще граничные случаи могут быть.\n",
    "Например, проверьте, что на таком примере ваша модель корректно работает:"
   ]
  },
  {
   "cell_type": "code",
   "execution_count": 7,
   "metadata": {
    "colab": {
     "base_uri": "https://localhost:8080/"
    },
    "id": "u5s5bXhHQaaR",
    "outputId": "c9d5f8c9-6870-4a72-ad1d-111d1a12f209"
   },
   "outputs": [
    {
     "name": "stdout",
     "output_type": "stream",
     "text": [
      "DEPTH: 1 \n",
      "\t\tTree: {0: (0, 1, 2), 1: (0, 1, 6), 3: (1, 1, 1.0), 4: (1, 0, 0.5), 2: (0, 0, 1), 6: (1, 0, 1.0)} [0 0 0 0 0 0 0 1 1 1]\n",
      "DEPTH: 2 \n",
      "\t\tTree: {0: (0, 1, 2), 1: (0, 1, 6), 3: (0, 0, 1), 8: (1, 1, 1.0), 4: (0, 1, 4), 9: (1, 0, 1.0), 10: (1, 1, 1.0), 2: (0, 0, 1), 6: (0, 0, 1), 14: (1, 0, 1.0)} [0 0 0 0 0 1 1 1 1 1]\n",
      "DEPTH: 3 \n",
      "\t\tTree: {0: (0, 1, 2), 1: (0, 1, 6), 3: (0, 0, 1), 8: (0, 0, 1), 18: (1, 1, 1.0), 4: (0, 1, 4), 9: (0, 0, 1), 20: (1, 0, 1.0), 10: (0, 0, 1), 22: (1, 1, 1.0), 2: (0, 0, 1), 6: (0, 0, 1), 14: (0, 0, 1), 30: (1, 0, 1.0)} [0 0 0 0 0 1 1 1 1 1]\n",
      "DEPTH: 4 \n",
      "\t\tTree: {0: (0, 1, 2), 1: (0, 1, 6), 3: (0, 0, 1), 8: (0, 0, 1), 18: (0, 0, 1), 38: (1, 1, 1.0), 4: (0, 1, 4), 9: (0, 0, 1), 20: (0, 0, 1), 42: (1, 0, 1.0), 10: (0, 0, 1), 22: (0, 0, 1), 46: (1, 1, 1.0), 2: (0, 0, 1), 6: (0, 0, 1), 14: (0, 0, 1), 30: (0, 0, 1), 62: (1, 0, 1.0)} [0 0 0 0 0 1 1 1 1 1]\n"
     ]
    }
   ],
   "source": [
    "X = np.array([[1] * 10, [0, 1, 2, 5, 6, 3, 4, 7, 8, 9]]).T\n",
    "y = np.array([0, 0, 0, 0, 0, 1, 1, 1, 1, 1])\n",
    "for depth in range(1, 5):\n",
    "    my_clf = MyDecisionTreeClassifier(max_depth=depth)\n",
    "    my_clf.fit(X, y)\n",
    "    print(\"DEPTH:\", depth, \"\\n\\t\\tTree:\", my_clf.tree, my_clf.predict(X))"
   ]
  },
  {
   "cell_type": "markdown",
   "metadata": {
    "id": "Cp5iGnNSQaaR"
   },
   "source": [
    "## Ускоряем дерево решений (2 балла)\n",
    "Добиться скорости работы на fit не медленнее чем в 10 раз sklearn на данных wine.\n",
    "Для этого используем numpy."
   ]
  },
  {
   "cell_type": "code",
   "execution_count": 10,
   "metadata": {
    "colab": {
     "base_uri": "https://localhost:8080/",
     "height": 110
    },
    "id": "RFehvm3gQaaS",
    "outputId": "ac0eb3ca-a9f7-4326-83f4-c1c9f38941fc",
    "scrolled": true
   },
   "outputs": [
    {
     "name": "stdout",
     "output_type": "stream",
     "text": [
      "CPU times: user 3.55 ms, sys: 1.46 ms, total: 5.02 ms\n",
      "Wall time: 6.06 ms\n"
     ]
    },
    {
     "data": {
      "text/plain": [
       "DecisionTreeClassifier()"
      ]
     },
     "execution_count": 10,
     "metadata": {},
     "output_type": "execute_result"
    }
   ],
   "source": [
    "%time clf.fit(X_train, y_train)"
   ]
  },
  {
   "cell_type": "code",
   "execution_count": 9,
   "metadata": {
    "colab": {
     "base_uri": "https://localhost:8080/"
    },
    "id": "Cmi-OCvuQaaS",
    "outputId": "1a0e5b05-fe9d-4b0b-fc05-ccc4eb8ca739"
   },
   "outputs": [
    {
     "name": "stdout",
     "output_type": "stream",
     "text": [
      "CPU times: user 448 ms, sys: 2.52 ms, total: 450 ms\n",
      "Wall time: 453 ms\n"
     ]
    }
   ],
   "source": [
    "%time my_clf.fit(X_train, y_train)"
   ]
  },
  {
   "cell_type": "code",
   "execution_count": null,
   "metadata": {
    "id": "aoXqb76wQaaS"
   },
   "outputs": [],
   "source": []
  },
  {
   "cell_type": "markdown",
   "metadata": {
    "id": "X2rAbD8FQaaS"
   },
   "source": [
    "## Боевое применение (3 балла)\n",
    "\n",
    "На практике Вы познакомились с датасетом Speed Dating Data. В нем каждая пара в быстрых свиданиях характеризуется определенным набором признаков. Задача -- предсказать, произойдет ли матч пары (колонка match).\n",
    "\n",
    "Данные и описания колонок во вложениях.\n",
    "\n",
    "Пример работы с датасетом можете найти в практике пункт 2\n",
    "https://github.com/VVVikulin/ml1.sphere/blob/master/2019-09/lecture_06/pract-trees.ipynb\n",
    "\n",
    "Либо воспользоваться функцией:"
   ]
  },
  {
   "cell_type": "code",
   "execution_count": 11,
   "metadata": {
    "id": "3JzMTdKkQaaS"
   },
   "outputs": [],
   "source": [
    "def preprocess_spd_data(df):\n",
    "    df = df.iloc[:, :97]\n",
    "\n",
    "    to_drop = [\n",
    "        'id', 'idg', 'condtn', 'round', 'positin1', 'race_o', 'pf_o_att',\n",
    "        'pf_o_sin', 'pf_o_int', 'pf_o_fun', 'pf_o_amb', 'pf_o_sha',\n",
    "        'dec_o', 'attr_o', 'sinc_o', 'intel_o', 'fun_o', 'amb_o', 'prob_o','met_o',\n",
    "        'field', 'zipcode', 'expnum', 'mn_sat', 'tuition'\n",
    "    ]\n",
    "\n",
    "    df = df.drop(to_drop, axis=1)\n",
    "    df = df.dropna(subset=['age', 'imprelig', 'imprace', 'date'])\n",
    "\n",
    "    df.loc[:, 'field_cd'] = df.loc[:, 'field_cd'].fillna(19)\n",
    "    df.loc[:, 'career_c'] = df.loc[:, 'career_c'].fillna(18)\n",
    "\n",
    "    # attr1 processing\n",
    "    df.loc[:, 'temp_totalsum'] = df.loc[:, ['attr1_1', 'sinc1_1', 'intel1_1', 'fun1_1',\n",
    "                                            'amb1_1', 'shar1_1']].sum(axis=1)\n",
    "    df.loc[:, ['attr1_1', 'sinc1_1', 'intel1_1', 'fun1_1', 'amb1_1', 'shar1_1']] =\\\n",
    "    (df.loc[:, ['attr1_1', 'sinc1_1', 'intel1_1', 'fun1_1', 'amb1_1', 'shar1_1']].T /\n",
    "     df.loc[:, 'temp_totalsum'].T).T * 100\n",
    "\n",
    "    # attr2 processing\n",
    "    df.loc[:, 'temp_totalsum'] = df.loc[:, ['attr2_1', 'sinc2_1', 'intel2_1', 'fun2_1',\n",
    "                                            'amb2_1', 'shar2_1']].sum(axis=1)\n",
    "    df.loc[:, ['attr2_1', 'sinc2_1', 'intel2_1', 'fun2_1', 'amb2_1', 'shar2_1']] =\\\n",
    "    (df.loc[:, ['attr2_1', 'sinc2_1', 'intel2_1', 'fun2_1', 'amb2_1', 'shar2_1']].T /\n",
    "     df.loc[:, 'temp_totalsum'].T).T * 100\n",
    "    df = df.drop(['temp_totalsum'], axis=1)\n",
    "\n",
    "    for i in [4, 5]:\n",
    "        feat = ['attr{}_1'.format(i), 'sinc{}_1'.format(i),\n",
    "                'intel{}_1'.format(i), 'fun{}_1'.format(i),\n",
    "                'amb{}_1'.format(i), 'shar{}_1'.format(i)]\n",
    "\n",
    "        if i != 4:\n",
    "            feat.remove('shar{}_1'.format(i))\n",
    "\n",
    "        df = df.drop(feat, axis=1)\n",
    "\n",
    "    df = df.drop(['wave'], axis=1)\n",
    "    df = df.dropna()\n",
    "    return df"
   ]
  },
  {
   "cell_type": "markdown",
   "metadata": {
    "id": "zKA6xtCwQaaS"
   },
   "source": [
    "Скачайте датасет, обработайте данные, как показано на семинаре или своим собственным способом. Обучите дерево классифкации. В качестве таргета возьмите колонку 'match'. Постарайтесь хорошо обработать признаки, чтобы выбить максимальную точность. Если точность будет близка к случайному гаданию, задание не будет защитано. В качестве метрики можно взять roc-auc.\n"
   ]
  },
  {
   "cell_type": "code",
   "execution_count": 12,
   "metadata": {
    "id": "oVqACRujQaaS"
   },
   "outputs": [],
   "source": [
    "df = pd.read_csv('Speed_Dating_Data.csv', encoding='latin1')"
   ]
  },
  {
   "cell_type": "code",
   "execution_count": 13,
   "metadata": {
    "id": "vBN2tUFvQaaS"
   },
   "outputs": [],
   "source": [
    "data = preprocess_spd_data(df)"
   ]
  },
  {
   "cell_type": "code",
   "execution_count": 14,
   "metadata": {
    "id": "NdQvpECYhF_r"
   },
   "outputs": [],
   "source": [
    "y = data['match']\n",
    "X = data.drop(['match'], axis=1).to_numpy()"
   ]
  },
  {
   "cell_type": "code",
   "execution_count": 15,
   "metadata": {
    "id": "52RYGsfRiMgE"
   },
   "outputs": [],
   "source": [
    "my_clf = MyDecisionTreeClassifier()\n",
    "my_clf.fit(X, y)"
   ]
  },
  {
   "cell_type": "code",
   "execution_count": 16,
   "metadata": {
    "id": "UYTHVJPmwybG"
   },
   "outputs": [
    {
     "name": "stdout",
     "output_type": "stream",
     "text": [
      "roc-auc =  0.672108495787467\n"
     ]
    }
   ],
   "source": [
    "print('roc-auc = ', roc_auc_score(y_true=y, y_score=my_clf.predict(X)))"
   ]
  },
  {
   "cell_type": "markdown",
   "metadata": {
    "id": "LeSNP1BtQaaT"
   },
   "source": [
    "Разбейте датасет на трейн и валидацию. Подберите на валидации оптимальный критерий  информативности.\n",
    "Постройте графики зависимости точности на валидации и трейне от глубины дерева, от минимального числа объектов для сплита. (Т.е должно быть 2 графика, на каждой должны быть 2 кривые - для трейна и валидации)\n",
    "Какой максимальной точности удалось достигнуть?"
   ]
  },
  {
   "cell_type": "code",
   "execution_count": 23,
   "metadata": {
    "id": "g1vdWGPQQaaT"
   },
   "outputs": [],
   "source": [
    "X_train, X_test, y_train, y_test = train_test_split(X, y, test_size=0.1, stratify=y, random_state=30)"
   ]
  },
  {
   "cell_type": "code",
   "execution_count": null,
   "metadata": {
    "colab": {
     "base_uri": "https://localhost:8080/"
    },
    "id": "8CrKz3wbQaaT",
    "outputId": "22942598-c824-4d98-db12-641574e29d6f"
   },
   "outputs": [],
   "source": [
    "my_clf_miscl = MyDecisionTreeClassifier(criterion='misclassification')\n",
    "my_clf_ent = MyDecisionTreeClassifier(criterion='entropy')\n",
    "my_clf_gini = MyDecisionTreeClassifier(criterion='gini')\n",
    "my_clf_miscl.fit(X_train, y_train)\n",
    "my_clf_ent.fit(X_train, y_train)\n",
    "my_clf_gini.fit(X_train, y_train)\n",
    "\n",
    "print('roc-auc_score on valid', roc_auc_score(y_true=y_test, y_score=my_clf_miscl.predict(X_test)))\n",
    "print('roc-auc_score on valid', roc_auc_score(y_true=y_test, y_score=my_clf_ent.predict(X_test)))\n",
    "print('roc-auc_score on valid', roc_auc_score(y_true=y_test, y_score=my_clf_gini.predict(X_test)))"
   ]
  },
  {
   "cell_type": "markdown",
   "metadata": {
    "id": "n3peaiLyQaaT"
   },
   "source": [
    "Известным фактом является то, что деревья решений сильно переобучаются при увеличении глубины и просто запоминают трейн.\n",
    "Замечаете ли вы такой эффект судя по графикам? Что при этом происходит с качеством на валидации?"
   ]
  },
  {
   "cell_type": "code",
   "execution_count": null,
   "metadata": {
    "id": "E8hNFQmiQaaT"
   },
   "outputs": [],
   "source": [
    "plt.figure(figsize=(16, 9))\n",
    "plt.title('depth influence')\n",
    "train = []\n",
    "test = []\n",
    "for i in range(1, 11):\n",
    "    my_clf = MyDecisionTreeClassifier(max_depth=i)\n",
    "    my_clf.fit(X_train, y_train)\n",
    "    roc_auc_train = roc_auc_score(y_true=y_train, y_score=my_clf.predict(X_train))\n",
    "    roc_auc_test = roc_auc_score(y_true=y_test, y_score=my_clf.predict(X_test))\n",
    "    train.append(roc_auc_train)\n",
    "    test.append(roc_auc_test)\n",
    "plt.plot(range[1, 11], train, label='train')\n",
    "plt.plot(range[1, 11], test, label='test')\n",
    "plt.legend()\n",
    "plt.xlabel('max_depth')\n",
    "plt.ylabel('metric')\n",
    "plt.show()"
   ]
  },
  {
   "cell_type": "code",
   "execution_count": null,
   "metadata": {},
   "outputs": [],
   "source": [
    "plt.figure(figsize=(16, 9))\n",
    "plt.title('depth influence')\n",
    "train = []\n",
    "test = []\n",
    "for i in range(2, 11):\n",
    "    my_clf = MyDecisionTreeClassifier(min_samples_split=i, max_depth=8)\n",
    "    my_clf.fit(X_train, y_train)\n",
    "    roc_auc_train = roc_auc_score(y_true=y_train, y_score=my_clf.predict(X_train))\n",
    "    roc_auc_test = roc_auc_score(y_true=y_test, y_score=my_clf.predict(X_test))\n",
    "    train.append(roc_auc_train)\n",
    "    test.append(roc_auc_test)\n",
    "plt.plot(range[1, 11], train, label='train')\n",
    "plt.plot(range[1, 11], test, label='test')\n",
    "plt.legend()\n",
    "plt.xlabel('max_depth')\n",
    "plt.ylabel('metric')\n",
    "plt.show()"
   ]
  },
  {
   "cell_type": "markdown",
   "metadata": {
    "id": "JooIi1IOQaaT"
   },
   "source": [
    "## Находим самые важные признаки (2 балла)\n",
    "\n"
   ]
  },
  {
   "cell_type": "markdown",
   "metadata": {
    "id": "u_KxDI45QaaT"
   },
   "source": [
    "По построенному дереву  легко понять, какие признаки лучше всего помогли решить задачу. Часто это бывает нужно  не только  для сокращения размерности в данных, но и для лучшего понимания прикладной задачи. Например, Вы хотите понять, какие признаки стоит еще конструировать -- для этого нужно понимать, какие из текущих лучше всего работают в дереве."
   ]
  },
  {
   "cell_type": "markdown",
   "metadata": {
    "id": "ub1mc3jKQaaT"
   },
   "source": [
    "Самый простой метод -- посчитать число сплитов, где использовался данные признак. Это не лучший вариант, так как по признаку который принимает всего 2 значения, но который почти точно разделяет выборку, число сплитов будет очень 1, но при этом признак сам очень хороший.\n",
    "В этом задании предлагается для каждого признака считать суммарный gain (в лекции обозначено как Q) при использовании этого признака в сплите. Тогда даже у очень хороших признаков с маленьким число сплитов это значение должно быть довольно высоким.  "
   ]
  },
  {
   "cell_type": "markdown",
   "metadata": {
    "id": "kQCtQTg9QaaT"
   },
   "source": [
    "Реализовать это довольно просто: создаете словарь номер фичи : суммарный гейн и добавляете в нужную фичу каждый раз, когда используете ее при построении дерева."
   ]
  },
  {
   "cell_type": "markdown",
   "metadata": {
    "id": "Br1davgCQaaT"
   },
   "source": [
    "Добавьте функционал, который определяет значения feature importance. Обучите дерево на датасете Speed Dating Data.\n",
    "Выведите 10 главных фичей по важности."
   ]
  },
  {
   "cell_type": "code",
   "execution_count": null,
   "metadata": {
    "id": "9e58R8biQaaT"
   },
   "outputs": [],
   "source": [
    "my_clf = MyDecisionTreeClassifier()\n",
    "my_clf.fit(X_train, y_train)"
   ]
  },
  {
   "cell_type": "code",
   "execution_count": null,
   "metadata": {
    "id": "tsnev4cPQaaT"
   },
   "outputs": [],
   "source": [
    "imp_feature = my_clf.get_feature_importance()\n",
    "top_features = sorted(imp_feature.items(), key= lambda item: item[1], reverse=True)[:10]\n",
    "for i in range(10):\n",
    "    print(f'feature {i + 1}: {X_train.columns[top_features[i][0]]}, gain = {top_features[i][i]}')"
   ]
  },
  {
   "cell_type": "markdown",
   "metadata": {
    "id": "85oe7jrKQaaT"
   },
   "source": [
    "## Фидбек (бесценно)"
   ]
  },
  {
   "cell_type": "markdown",
   "metadata": {
    "id": "rhIenOtpQaaT"
   },
   "source": [
    "* Какие аспекты обучения деревьев решений Вам показались непонятными? Какое место стоит дополнительно объяснить?"
   ]
  },
  {
   "cell_type": "markdown",
   "metadata": {
    "id": "hSOH9LHcQaaU"
   },
   "source": [
    "### Ваш ответ здесь"
   ]
  },
  {
   "cell_type": "markdown",
   "metadata": {
    "id": "Hf4LH6UEQaaU"
   },
   "source": [
    "* Здесь Вы можете оставить отзыв о этой домашней работе или о всем курсе."
   ]
  },
  {
   "cell_type": "markdown",
   "metadata": {
    "id": "MyanRFaAQaaU"
   },
   "source": [
    "### ВАШ ОТЗЫВ ЗДЕСЬ\n",
    "\n"
   ]
  },
  {
   "cell_type": "code",
   "execution_count": null,
   "metadata": {
    "collapsed": true,
    "id": "ihOMdLkiQaaU",
    "jupyter": {
     "outputs_hidden": true
    }
   },
   "outputs": [],
   "source": []
  },
  {
   "cell_type": "code",
   "execution_count": null,
   "metadata": {
    "collapsed": true,
    "id": "cV0fAjlvQaaU",
    "jupyter": {
     "outputs_hidden": true
    }
   },
   "outputs": [],
   "source": []
  }
 ],
 "metadata": {
  "anaconda-cloud": {},
  "colab": {
   "provenance": []
  },
  "kernelspec": {
   "display_name": "Python 3 (ipykernel)",
   "language": "python",
   "name": "python3"
  },
  "language_info": {
   "codemirror_mode": {
    "name": "ipython",
    "version": 3
   },
   "file_extension": ".py",
   "mimetype": "text/x-python",
   "name": "python",
   "nbconvert_exporter": "python",
   "pygments_lexer": "ipython3",
   "version": "3.9.13"
  }
 },
 "nbformat": 4,
 "nbformat_minor": 1
}
